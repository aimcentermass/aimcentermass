{
 "cells": [
  {
   "cell_type": "code",
   "execution_count": 1,
   "metadata": {},
   "outputs": [
    {
     "name": "stdout",
     "output_type": "stream",
     "text": [
      "C:\\Users\\hansoc10\\Desktop\\Programming\\Python\\datafiles\n"
     ]
    }
   ],
   "source": [
    "import os\n",
    "os.chdir('C:/Users/hansoc10/Desktop/Programming/Python/datafiles/')\n",
    "print(os.getcwd())\n",
    "# print(os.listdir())"
   ]
  },
  {
   "cell_type": "markdown",
   "metadata": {},
   "source": [
    "the next cell will generate a forecast"
   ]
  },
  {
   "cell_type": "code",
   "execution_count": 4,
   "metadata": {
    "scrolled": false
   },
   "outputs": [
    {
     "name": "stdout",
     "output_type": "stream",
     "text": [
      "pull the matter number from this line\n",
      "30323 howdy line #: 3 \n",
      "\n",
      "{'Matter': '30323'}\n",
      "<class 'list'> typeasdsad 0 length\n",
      "<class 'list'> typeasdsad 3 length\n",
      "['FY18Q1', 'FY18Q2', 'FY18Q3', 'FY18Q4', 'FY18FY'] hello there\n",
      "[0, 0, 0, 268000.0, 268000.0] yes were doinasdf\n",
      "<class 'list'> typeasdsad 0 length\n",
      "<class 'list'> typeasdsad 3 length\n",
      "['FY19Q1', 'FY19Q2', 'FY19Q3', 'FY19Q4', 'FY19FY'] hello there\n",
      "[471622.0, 425000.0, 413000.0, 660000.0, 1969622.0] yes were doinasdf\n",
      "<class 'list'> typeasdsad 0 length\n",
      "<class 'list'> typeasdsad 3 length\n",
      "['FY20Q1', 'FY20Q2', 'FY20Q3', 'FY20Q4', 'FY20FY'] hello there\n",
      "[210000.0, 32000.0, 115000.0, 0, 357000.0] yes were doinasdf\n",
      "<class 'list'> typeasdsad 0 length\n",
      "<class 'list'> typeasdsad 3 length\n",
      "['FY21Q1', 'FY21Q2', 'FY21Q3', 'FY21Q4', 'FY21FY'] hello there\n",
      "[400000.0, 0, 202000.0, 0, 0] yes were doinasdf\n",
      "<class 'list'> typeasdsad 0 length\n",
      "<class 'list'> typeasdsad 3 length\n",
      "['FY21Q1', 'FY21Q2', 'FY21Q3', 'FY21Q4', 'FY21FY'] hello there\n",
      "[0, 400000.0, 0, 289000.0, 0] yes were doinasdf\n"
     ]
    }
   ],
   "source": [
    "\"\"\"\n",
    "NOTE THAT ONCE YOU GO THROUGH AN ITERATION IT WON'T REPEAT ITSELF - SEE BELOW.\n",
    "\"\"\"\n",
    "import csv\n",
    "import os\n",
    "import re\n",
    "os.chdir('C:/Users/hansoc10/Desktop/Programming/Python/datafiles/')\n",
    "# print(os.getcwd())\n",
    "# print(os.listdir())\n",
    "\n",
    "\n",
    "def fcst_qtrs(fy_str):\n",
    "    \"\"\"\n",
    "    returns a list of the fiscal quarters\n",
    "    and the fiscal year\n",
    "    \"\"\"\n",
    "    qtrs = ['Q1', 'Q2', 'Q3', 'Q4', 'FY']\n",
    "    qtrs_fcst = []\n",
    "    for qtr in qtrs:\n",
    "        new_qtr = fy_str + qtr\n",
    "        qtrs_fcst.append(new_qtr)\n",
    "    return qtrs_fcst\n",
    "\n",
    "\n",
    "def fcst_spend(q1_str, q2_str, q3_str, q4_str, ttl_str):\n",
    "    \"\"\"\n",
    "    returns the fiscal quarter spend and\n",
    "    the total fiscal year spend\n",
    "    \"\"\"\n",
    "    qtrs = [q1_str, q2_str, q3_str, q4_str, ttl_str]\n",
    "    fscl_spend = []\n",
    "    for qtr in qtrs:\n",
    "        num_extract = re.sub(r'[,]+', \"\", qtr)\n",
    "        a = [float(s) for s in re.findall(r'-?\\d+\\.?\\d*', num_extract)]\n",
    "        fscl_spend.append(sum(a))\n",
    "    print(fscl_spend, 'yes were doinasdf')\n",
    "    return fscl_spend\n",
    "    \n",
    "    \n",
    "    \n",
    "def row_is_empty(row):\n",
    "    \"\"\"\n",
    "    Joins a row that is a list (usually)\n",
    "    If row cotains nothinf returns true\n",
    "    \"\"\"\n",
    "    if len(\"\".join(row)) == 0:\n",
    "        return True\n",
    "    else:\n",
    "        return False\n",
    "\n",
    "    \n",
    "    \n",
    "Matter_Dict = {'Matter' : None}\n",
    "with open('robins forecast.csv', 'r') as csv_file:\n",
    "    csv_reader = csv.DictReader(csv_file, fieldnames=['first_cell', 'second_cell', 'third_cell',\n",
    "                                           'fourth_cell', 'fifth_cell', 'sixth_cell'], restkey='unexpected', dialect='excel')   \n",
    "    with open('new_names.csv', 'w', newline='') as new_file:\n",
    "        for line in range(9):\n",
    "            header = next(csv_reader)\n",
    "            if row_is_empty(str(csv_reader)) is True:\n",
    "                continue\n",
    "            elif line == 3:\n",
    "                print('pull the matter number from this line')\n",
    "                Matter_Dict['Matter'] = header['second_cell']\n",
    "                print(header['second_cell'], 'howdy line #:', line, '\\n')\n",
    "#             elif line == 4:\n",
    "#                 print('pull the PIC from this line')\n",
    "#                 print(header['second_cell'], 'howdy line #:', line, '\\n')\n",
    "#             elif line == 8:\n",
    "#                 print('pull the assumptions from this line')\n",
    "#                 print(header['second_cell'], 'howdy line #:', line, '\\n')\n",
    "\n",
    "            #print(header['second_cell'], 'howdy line #:', line, '\\n')\n",
    "\n",
    "        print(Matter_Dict)    \n",
    "        csv_writer = csv.writer(new_file) # , fieldnames=fieldnames\n",
    "        # csv_writer.writeheader()\n",
    "        csv_writer.writerow(header)\n",
    "        for line in csv_reader:\n",
    "#             print('whole line:', line)\n",
    "#             print('type line: ', type(line))\n",
    "#             print(type(line['first_cell']), 'typppeee', len(line['first_cell']), 'length')\n",
    "            fscl_yr = line['first_cell'].split()\n",
    "            print(type(fscl_yr), 'typeasdsad', len(fscl_yr), 'length')\n",
    "            if len(fscl_yr) != 0:\n",
    "                fcst_keys = fcst_qtrs(fscl_yr[0])\n",
    "                print(fcst_keys, 'hello there')\n",
    "                fcst_values = fcst_spend(line['second_cell'],\n",
    "                                         line['third_cell'],\n",
    "                                         line['fourth_cell'],\n",
    "                                         line['fifth_cell'],\n",
    "                                         line['sixth_cell'])\n",
    "#             print('1st:', line['first_cell'])\n",
    "#             print('2nd:', line['second_cell'])\n",
    "#             num_extract = re.sub(r'[,]+', \"\", line['second_cell'])\n",
    "#             print(num_extract)\n",
    "#             a = [float(s) for s in re.findall(r'-?\\d+\\.?\\d*', num_extract)]\n",
    "#             # [float(s) for s in re.findall(r'-?\\d+\\.?\\d*', 'he$33.45llo -42 I\\'m a 32 456,789 879,789.00string 30')]\n",
    "#             print(a)\n",
    "#             print(sum(a), 'that was sum of a')\n",
    "#             line['second_cell'] = sum(a)\n",
    "#             print('what did I get?', line)\n",
    "#             print(type(sum(a)))\n",
    "#             print('3rd:', line['third_cell'])\n",
    "#             print('4th:', line['fourth_cell'])\n",
    "#             print('5th:', line['fifth_cell'])\n",
    "#             print('6th:', line['sixth_cell'])\n",
    "            csv_writer.writerow(line)        \n",
    "\n",
    "        \n",
    "  "
   ]
  },
  {
   "cell_type": "code",
   "execution_count": 5,
   "metadata": {},
   "outputs": [],
   "source": [
    "\"\"\"\n",
    "NOTE THAT ONCE YOU GO THROUGH AN ITERATION IT WON'T REPEAT ITSELF - SEE BELOW.\n",
    "\"\"\"\n",
    "import csv\n",
    "import os\n",
    "os.chdir('C:/Users/hansoc10/Desktop/Programming/Python/datafiles/')\n",
    "# print(os.getcwd())\n",
    "#print(os.listdir())\n",
    "\n",
    "with open('new_AOPnames.csv', 'r') as csv_file:\n",
    "    csv_reader = csv.DictReader(csv_file)\n",
    "    # for line in csv_reader:\n",
    "        #print(line)\n",
    "    \n",
    "    with open('new_names.csv', 'w', newline='') as new_file:\n",
    "        fieldnames = next(csv_reader) # ['first_name', 'last_name', 'email']        \n",
    "        csv_writer = csv.DictWriter(new_file, fieldnames=fieldnames, delimiter=',') \n",
    "        csv_writer.writeheader()\n",
    "\n",
    "        for line in csv_reader:\n",
    "            # print(csv_writer.writerows(line))\n",
    "            # del line['email']\n",
    "            csv_writer.writerow(line)"
   ]
  },
  {
   "cell_type": "markdown",
   "metadata": {},
   "source": [
    "The next cell creates a dictionary of total spend for a matter."
   ]
  },
  {
   "cell_type": "code",
   "execution_count": 65,
   "metadata": {},
   "outputs": [
    {
     "name": "stdout",
     "output_type": "stream",
     "text": [
      "Jan\n"
     ]
    }
   ],
   "source": [
    "num_to_month = ('Jan', 'Feb', 'Mar', 'Apr', 'May', 'Jun', 'Jul', 'Aug', 'Sep', 'Oct', 'Nov', 'Dec')\n",
    "print(num_to_month[0])"
   ]
  },
  {
   "cell_type": "code",
   "execution_count": 63,
   "metadata": {},
   "outputs": [
    {
     "data": {
      "text/plain": [
       "'Jan'"
      ]
     },
     "execution_count": 63,
     "metadata": {},
     "output_type": "execute_result"
    }
   ],
   "source": [
    "\n",
    "num_to_month = tuple(zip([1, 2, 3, 4, 5, 6, 7, 8, 9, 10, 11, 12], \n",
    "                        ['Jan', 'Feb', 'Mar', 'Apr', 'May', 'Jun', 'Jul', 'Aug', 'Sep', 'Oct', 'Nov', 'Dec']))\n",
    "x, y = num_to_month[0]\n",
    "x\n",
    "y"
   ]
  },
  {
   "cell_type": "code",
   "execution_count": 41,
   "metadata": {},
   "outputs": [
    {
     "name": "stdout",
     "output_type": "stream",
     "text": [
      "chad Jan 1\n",
      "{'Jan': 1, 'Feb': 2, 'Mar': 3, 'Apr': 4, 'May': 5, 'Jun': 6, 'Jul': 7, 'Aug': 8, 'Sep': 9, 'Oct': 10, 'Nov': 11, 'Dec': 12}\n",
      "1\n"
     ]
    },
    {
     "ename": "KeyError",
     "evalue": "1",
     "output_type": "error",
     "traceback": [
      "\u001b[1;31m---------------------------------------------------------------------------\u001b[0m",
      "\u001b[1;31mKeyError\u001b[0m                                  Traceback (most recent call last)",
      "\u001b[1;32m<ipython-input-41-64ed7b249fcf>\u001b[0m in \u001b[0;36m<module>\u001b[1;34m\u001b[0m\n\u001b[0;32m      6\u001b[0m     \u001b[0mprint\u001b[0m\u001b[1;33m(\u001b[0m\u001b[0mmonth_to_num\u001b[0m\u001b[1;33m)\u001b[0m\u001b[1;33m\u001b[0m\u001b[1;33m\u001b[0m\u001b[0m\n\u001b[0;32m      7\u001b[0m     \u001b[0mprint\u001b[0m\u001b[1;33m(\u001b[0m\u001b[0mmonth_to_num\u001b[0m\u001b[1;33m[\u001b[0m\u001b[0mmon\u001b[0m\u001b[1;33m]\u001b[0m\u001b[1;33m)\u001b[0m\u001b[1;33m\u001b[0m\u001b[1;33m\u001b[0m\u001b[0m\n\u001b[1;32m----> 8\u001b[1;33m     \u001b[0mprint\u001b[0m\u001b[1;33m(\u001b[0m\u001b[0mmonth_to_num\u001b[0m\u001b[1;33m[\u001b[0m\u001b[0mnum\u001b[0m\u001b[1;33m]\u001b[0m\u001b[1;33m)\u001b[0m\u001b[1;33m\u001b[0m\u001b[1;33m\u001b[0m\u001b[0m\n\u001b[0m\u001b[0;32m      9\u001b[0m \u001b[1;33m\u001b[0m\u001b[0m\n\u001b[0;32m     10\u001b[0m     \u001b[1;31m#print(num)\u001b[0m\u001b[1;33m\u001b[0m\u001b[1;33m\u001b[0m\u001b[1;33m\u001b[0m\u001b[0m\n",
      "\u001b[1;31mKeyError\u001b[0m: 1"
     ]
    }
   ],
   "source": [
    "month_to_num = dict(zip(['Jan', 'Feb', 'Mar', 'Apr', 'May', 'Jun', 'Jul', 'Aug', 'Sep', 'Oct', 'Nov', 'Dec'],\n",
    "             [1, 2, 3, 4, 5, 6, 7, 8, 9, 10, 11, 12]))\n",
    "#dict((v,k) for k,v in enumerate(calendar.month_abbr))\n",
    "for mon, num in month_to_num.items():\n",
    "    print('chad', mon, num)\n",
    "    print(month_to_num)\n",
    "    print(month_to_num[mon])\n",
    "    print(month_to_num[num])\n",
    "\n",
    "    #print(num)\n",
    "    \n",
    "# for value, key in month_to_num.items():\n",
    "#     print('chaddy', key, value, month_to_num[key])\n",
    "#     print(value)\n",
    "\n",
    "#     # Iterate over the keys in dictionary, access value & print line by line\n",
    "# for key in month_to_num:\n",
    "#     print('hmm', key, ' : ', month_to_num[key])\n",
    "#     print(key, ' : ', month_to_num[key])\n",
    "#     if month_to_num[key] == 4:\n",
    "#         print(month_to_num[key], 'hey now')\n",
    "        \n",
    "# for value in month_to_num:\n",
    "#     print(key, ' : ', month_to_num[value])\n",
    "#     print(key, ' : ', month_to_num[key])\n",
    "#     if month_to_num[key] == 4:\n",
    "#         print(month_to_num[key], 'hippy')"
   ]
  },
  {
   "cell_type": "code",
   "execution_count": 8,
   "metadata": {},
   "outputs": [
    {
     "name": "stdout",
     "output_type": "stream",
     "text": [
      "['Matter Number', 'FY14Q2', 'FY14Q3', 'FY14Q4', 'FY15Q1', 'FY15Q2', 'FY15Q3', 'FY15Q4', 'FY16Q1', 'FY16Q2', 'FY16Q3', 'FY16Q4', 'FY17Q1', 'FY17Q2', 'FY17Q3', 'FY17Q4', 'FY18Q1', 'FY18Q2', 'FY18Q3', 'FY18Q4', 'FY19Q1', 'FY19Q2', 'FY19Q3', 'FY19Q4', 'FY20Q1'] fieldnames\n",
      "\n",
      " {'Matter Number': '25866', 'FY15Q1': 188360.69, 'FY15Q2': 327434.48, 'FY15Q3': 224193.11, 'FY15Q4': 283286.99, 'FY16Q3': 346021.97000000003, 'FY17Q2': 857218.5999999997, 'FY17Q3': 566406.9700000007, 'FY17Q4': 423682.37, 'FY18Q2': 475306.35, 'FY16Q1': 226068.6700000001, 'FY19Q1': 2145512.839999999, 'FY19Q2': 3356473.2500000014, 'FY19Q3': 4485558.1899999995, 'FY19Q4': 1020417.1699999998, 'FY20Q1': 329364.4199999999, 'FY18Q4': 2229636.540000002, 'FY18Q1': 400102.5700000001, 'FY16Q4': 266920.70999999996, 'FY18Q3': 475982.61000000004, 'FY17Q1': 375955.02999999974, 'FY14Q4': 114311.46000000002, 'FY14Q2': 65220.50000000001, 'FY16Q2': 382798.97000000003, 'FY14Q3': 56224.5} spend_dict_final\n"
     ]
    }
   ],
   "source": [
    "import csv\n",
    "import os\n",
    "import re\n",
    "from decimal import *\n",
    "os.chdir('C:/Users/hansoc10/Desktop/Programming/Python/datafiles/')\n",
    "# print(os.getcwd())\n",
    "# print(os.listdir())\n",
    "# chaz\n",
    "\n",
    "month_to_num = dict(zip(['Jan', 'Feb', 'Mar', 'Apr', 'May', 'Jun', 'Jul', 'Aug', 'Sep', 'Oct', 'Nov', 'Dec'],\n",
    "             [1, 2, 3, 4, 5, 6, 7, 8, 9, 10, 11, 12]))\n",
    "\n",
    "def fiscal_quarter_clculatr(month, year):\n",
    "    \"\"\"\n",
    "    Takes a calendar month and four-digit calendar year\n",
    "    to create a string representing MDT fiscal quarters.\n",
    "    \"\"\"\n",
    "    FSCLQTR = ''\n",
    "    b = slice(2, 5)\n",
    "    Year = str(year)\n",
    "    Year = Year[b]\n",
    "    Year_plusone = str(year + 1)\n",
    "    Year_plusone = Year_plusone[b]\n",
    "    if month == 5 or month == 6 or month == 7:\n",
    "        FSCLQTR = 'FY' + Year_plusone + 'Q1'\n",
    "    if month == 8 or month == 9 or month == 10:\n",
    "        FSCLQTR = 'FY' + Year_plusone + 'Q2'\n",
    "    if month == 11 or month == 12:        \n",
    "        FSCLQTR = 'FY' + Year_plusone + 'Q3'\n",
    "    if month == 1:\n",
    "        FSCLQTR = 'FY' + Year + 'Q3'\n",
    "    if month == 2 or month == 3 or month == 4:\n",
    "        FSCLQTR = 'FY' + Year + 'Q4'\n",
    "    return FSCLQTR\n",
    "\n",
    "spend_dict = {}\n",
    "''' \n",
    "Barry actual spend.csv \n",
    "voda actual spend appeal.csv \n",
    "esch_actual_20190617.csv \n",
    "esch spend to date 20190911.csv\n",
    "'''\n",
    "with open('Sasso II spend to date 20190911.csv', 'r') as csv_file:  # 'barry actual spend.csv' 'rdn.csv'\n",
    "    csv_reader = csv.DictReader(csv_file)\n",
    "    with open('rdnres.csv', 'w', newline='') as new_file: #  'barry spend results.csv'\n",
    "        for line in csv_reader:\n",
    "            pulled_date = re.findall(r'^\\d{1,2}\\/\\d{1,2}\\/\\d{4}', line['Line Dt']) # left in but not used\n",
    "            month = re.findall(r'^\\d{1,2}', line['Line Dt'])\n",
    "            a = len(month)\n",
    "            if len(month) == 0:\n",
    "                m = re.compile('^Jan|Feb|Mar|Apr|May|Jun|Jul|Aug|Sep|Oct|Nov|Dec')\n",
    "                month = m.findall(line['Line Dt'])\n",
    "                month_int = month_to_num[month[0]]\n",
    "            else:\n",
    "                month_int = int(month[0])\n",
    "\n",
    "            year = re.findall(r'\\d\\d\\d\\d', line['Line Dt'])\n",
    "            year_int = int(year[0])\n",
    "\n",
    "            FQtr = fiscal_quarter_clculatr(month_int, year_int)\n",
    "            daily_spend = float(line['Line Alloc Net'].replace(',',''))\n",
    "                \n",
    "            if FQtr in spend_dict:\n",
    "                spend_dict[FQtr] += daily_spend\n",
    "            else:\n",
    "                spend_dict[FQtr] = daily_spend\n",
    "\n",
    "        # print(spend_dict, 'spendy dicter')\n",
    "        header_for_spend_dict = {'Matter Number':line['Matter Number']}\n",
    "        # print(header_for_spend_dict, 'header for spend dict\\n')\n",
    "        other_spend_dict = {'Matter Number': '26350', 'FY18Q1': 23456.7} \n",
    "# used 'other_spend_dict' to show you can write multiple dictionaries to same file\n",
    "        # spend_dict['Matter Number'] = line['Matter Number']\n",
    "        spend_dict_final = {**header_for_spend_dict, **spend_dict}\n",
    "        # fieldnames = list(header_for_spend_dict.keys()) + quarter_list\n",
    "        fieldnames = list(header_for_spend_dict.keys()) + sorted(list(spend_dict.keys())) # quarter_list\n",
    "        print(fieldnames, 'fieldnames\\n\\n', spend_dict_final, 'spend_dict_final')\n",
    "        csv_writer = csv.DictWriter(new_file, fieldnames=fieldnames)\n",
    "        csv_writer.writeheader() # if you skip this the file has no header\n",
    "        csv_writer.writerow(spend_dict_final)\n",
    "        csv_writer.writerow(other_spend_dict)\n"
   ]
  },
  {
   "cell_type": "markdown",
   "metadata": {},
   "source": [
    "The next cell is a cell to create an AOP "
   ]
  },
  {
   "cell_type": "code",
   "execution_count": 5,
   "metadata": {
    "scrolled": false
   },
   "outputs": [],
   "source": [
    "import csv\n",
    "import os\n",
    "import re\n",
    "import itertools\n",
    "from decimal import *\n",
    "os.chdir('C:/Users/hansoc10/Desktop/Programming/Python/datafiles/')\n",
    "# print(os.getcwd())\n",
    "# print(os.listdir())\n",
    "\n",
    "\"\"\"\n",
    "GLobal Variables\n",
    "\"\"\"\n",
    "fscl_yr = 2020\n",
    "AOP_identifier = [\"Matter Number\", \"AOP Fiscal Year\"]\n",
    "\n",
    "month_to_num = dict(zip(['Jan', 'Feb', 'Mar', 'Apr', 'May', 'Jun', 'Jul', 'Aug', 'Sep', 'Oct', 'Nov', 'Dec'],\n",
    "             [1, 2, 3, 4, 5, 6, 7, 8, 9, 10, 11, 12]))\n",
    "\n",
    "def fiscal_quarter_clculatr(month, year):\n",
    "    \"\"\"\n",
    "    Takes a calendar month and four-digit calendar year\n",
    "    to create a string representing MDT fiscal quarters.\n",
    "    \"\"\"\n",
    "    b = slice(2, 5)\n",
    "    Year = str(year)\n",
    "    Year = Year[b]\n",
    "    Year_plusone = str(year + 1)\n",
    "    Year_plusone = Year_plusone[b]\n",
    "    if month == 5 or month == 6 or month == 7:\n",
    "        FSCLQTR = 'FY' + Year_plusone + 'Q1'\n",
    "    elif month == 8 or month == 9 or month == 10:\n",
    "        FSCLQTR = 'FY' + Year_plusone + 'Q2'\n",
    "    elif month == 11 or month == 12:        \n",
    "        FSCLQTR = 'FY' + Year_plusone + 'Q3'\n",
    "    elif month == 1:\n",
    "        FSCLQTR = 'FY' + Year + 'Q3'        \n",
    "    elif month == 2 or month == 3 or month == 4:\n",
    "        FSCLQTR = 'FY' + Year + 'Q4'\n",
    "    return FSCLQTR\n",
    "\n",
    "\n",
    "class Matter:\n",
    "    \"\"\"\n",
    "    Matter class is the number and status of a matter.\n",
    "    \"\"\"\n",
    "    def __init__(self, number):\n",
    "        self.number = number\n",
    "\n",
    "\n",
    "class Matter_w_Name(Matter):\n",
    "    \"\"\"\n",
    "    Add caption and nickname (common name) to matter.\n",
    "    \"\"\"\n",
    "    def __init__(self, number, caption, nickname):\n",
    "        super().__init__(number)\n",
    "        # another way is to use Matter.__init__(etc)\n",
    "        self.caption = caption\n",
    "        self.nickname = nickname\n",
    "\n",
    "    def close_matter(self, status):\n",
    "        if status == \"Open\":\n",
    "            self.status = \"Open\"\n",
    "        if status == \"Closed\":\n",
    "            self.status = \"Closed\"\n",
    "        elif status != \"Closed\":\n",
    "            self.status = \"Open\"\n",
    "            print('Matter remains open.  You must send \\\"Closed\\\" to close the matter.')\n",
    "        return self.status\n",
    "\n",
    "\n",
    "class AOP(Matter):\n",
    "    \"\"\"\n",
    "    To get the whole AOP you can do this: print(My_AOP.AOP)\n",
    "    \"\"\"\n",
    "    def __init__(self, number, fscl_year, fq1, fq2, fq3, fq4):\n",
    "        super().__init__(number)\n",
    "        self.AOP = [number, fscl_year, fq1, fq2, fq3, fq4]\n",
    "        self.number = number\n",
    "        self.fiscal_year = fscl_year\n",
    "        self.FQ1 = fq1\n",
    "        self.FQ2 = fq2\n",
    "        self.FQ3 = fq3\n",
    "        self.FQ4 = fq4\n",
    "\n",
    "        @classmethod\n",
    "        # This method gets the AOP for a matter.  AOP.from_screen().abs\n",
    "        def from_screen(cls):\n",
    "            print(\n",
    "                'Enter AOP for a litigation matter in the format noted below.'\n",
    "            )\n",
    "            print('\\t   Mattter#, FYR, $Q1$, $Q2$, $Q3$, $Q4$.')\n",
    "            print('Example:     23322, 2019, 3000, 4000, 5050, 6000')\n",
    "            number, fscl_year, fq1, fq2, fq3, fq4 = input(\n",
    "                \"Enter AOP:  \").split()\n",
    "            return cls(number, fscl_year, fq1, fq2, fq3, fq4)\n",
    "        @classmethod\n",
    "        # Placeholder This method gets the AOP for a matter.\n",
    "        # To use it 'new_aop = AOP.from_file()'\n",
    "        def from_file(cls):\n",
    "            pass\n",
    "def AOP_fsclqtr_str(year):\n",
    "    \"\"\"\n",
    "    use two-digit or four-digit int of fiscal year\n",
    "    to create AOP fiscal quarter strings\n",
    "    \"\"\"\n",
    "    aop_fsclqtr_list = []\n",
    "    yr = str(year)\n",
    "    if len(yr) == 4:\n",
    "        b = slice(2, 5)\n",
    "        yr = yr[b]\n",
    "    elif len(str(year)) == 2:\n",
    "        yr = year\n",
    "    elif len(str(year)) != 2 and len(yr) != 4:\n",
    "        print(\"There is something wrong with the fiscal year.\"\n",
    "              \"It must be either two digits, e.g., 19, \"\n",
    "              \"or four digits, e.g. 2019\")\n",
    "    cntr = itertools.count(start=1, step=1)\n",
    "    for step in range(4):\n",
    "        aop_fsclqtr_list.append(str(\"FY\" + yr + \"Q\" + str(next(cntr))))\n",
    "    return aop_fsclqtr_list\n",
    "\n",
    "\"\"\"\n",
    "EXECUTIONS BELOW HERE\n",
    "\"\"\"\n",
    "\n",
    "AOP_fscl_qtrs_header = AOP_fsclqtr_str(fscl_yr)\n",
    "with open('MDT_AOP_FY20.csv', 'r') as csv_file:\n",
    "    csv_reader = csv.reader(csv_file)\n",
    "    with open('new_AOPnames.csv', 'w', newline='') as new_file:\n",
    "        for line in range(4):\n",
    "            header = next(csv_reader)\n",
    "        for i in range(4):\n",
    "            header.insert(11, AOP_fscl_qtrs_header[i])\n",
    "            header.pop(7)\n",
    "        header.pop(2)\n",
    "        header.insert(2, AOP_identifier[0])\n",
    "        csv_writer = csv.writer(new_file) # , fieldnames=fieldnames\n",
    "        # csv_writer.writeheader()\n",
    "        csv_writer.writerow(header)\n",
    "        for line in csv_reader:\n",
    "            the_AOP = AOP(line[2], fscl_yr, line[7], line[8], line[9], line[10] )\n",
    "            fiscal_data_list = list(line)\n",
    "            # print(the_AOP.AOP)\n",
    "            csv_writer.writerow(line)        \n",
    "\n",
    "        # fieldnames = header\n",
    "#         print(fieldnames)\n",
    "#         csv_writer = csv.writer(new_file) # , fieldnames=fieldnames\n",
    "#         csv_writer.writeheader()\n",
    "#         csv_writer.writerow(line)"
   ]
  },
  {
   "cell_type": "code",
   "execution_count": 6,
   "metadata": {},
   "outputs": [
    {
     "name": "stdout",
     "output_type": "stream",
     "text": [
      "['task', 'Group', 'File#', 'Atty', 'BU', 'Type', 'Case', 'FY20Q1', 'FY20Q2', 'FY20Q3', 'FY20Q4', 'FY', 'Assumptions']\n",
      "['task', 'Group', 'Matter Number', 'Atty', 'BU', 'Type', 'Case', 'FY20Q1', 'FY20Q2', 'FY20Q3', 'FY20Q4', 'FY', 'Assumptions']\n"
     ]
    }
   ],
   "source": [
    "My_AOP = [34345, 2019, 345, 3456, 5687, 67896789]\n",
    "the_AOP.AOP = ['34293', 2020, '0', '0', '0', '0']\n",
    "\n",
    "AOP_identifier = [\"Matter Number\", \"AOP Fiscal Year\"]\n",
    "AOP_fscl_qtrs_header = ['FY20Q1', 'FY20Q2', 'FY20Q3', 'FY20Q4']\n",
    "\n",
    "\n",
    "header = ['task', 'Group', 'File#', 'Atty', 'BU', 'Type', 'Case', 'Q1', 'Q2', 'Q3', 'Q4', 'FY', 'Assumptions']\n",
    "# spend_dict = {'Matter Number':None}\n",
    "# AOP_info = \n",
    "\n",
    "for i in range(4):\n",
    "    header.insert(11, AOP_fscl_qtrs_header[i])\n",
    "    header.pop(7)\n",
    "print(header)\n",
    "\n",
    "header.pop(2)\n",
    "header.insert(2, AOP_identifier[0])\n",
    "print(header)"
   ]
  },
  {
   "cell_type": "code",
   "execution_count": 7,
   "metadata": {},
   "outputs": [
    {
     "name": "stdout",
     "output_type": "stream",
     "text": [
      "True\n",
      "<class 'list'> ['one', 'two', 'three']\n",
      "<class 'list'> [1, 2, 3]\n",
      "<class 'list'> [('two', 2), ('one', 1), ('three', 3)]\n",
      "<class 'set'> {'one', 'three', 'two'}\n",
      "<class 'dict'>\n"
     ]
    }
   ],
   "source": [
    "a = dict(one=1, two=2, three=3)\n",
    "b = {'one': 1, 'two': 2, 'three': 3}\n",
    "c = dict(zip(['one', 'two', 'three'], [1, 2, 3]))\n",
    "d = dict([('two', 2), ('one', 1), ('three', 3)]) # note the order change\n",
    "e = dict({'three': 3, 'one': 1, 'two': 2})\n",
    "# f = dict(('two', 2), ('one', 1)) # TypeError: dict expected at most 1 arguments, got 2\n",
    "print(a == b == c == d == e)\n",
    "\n",
    "p = ['one', 'two', 'three']\n",
    "print(type(p), p)\n",
    "q = [1, 2, 3]\n",
    "print(type(q), q)\n",
    "r = [('two', 2), ('one', 1), ('three', 3)]\n",
    "print(type(r), r)\n",
    "s = set({'three': 3, 'one': 1, 'two': 2}) # an empty set() can be created, but see c above, which is a dict.\n",
    "print(type(s), s)\n",
    "\n",
    "month_to_num = dict(zip(['Jan', 'Feb', 'Mar', 'Apr', 'May', 'Jun', 'Jul', 'Aug', 'Sep', 'Oct', 'Nov', 'Dec'],\n",
    "             [1, 2, 3, 4, 5, 6, 7, 8, 9, 10, 11, 12]))\n",
    "print(type(month_to_num))"
   ]
  },
  {
   "cell_type": "code",
   "execution_count": 8,
   "metadata": {},
   "outputs": [
    {
     "name": "stdout",
     "output_type": "stream",
     "text": [
      "<class 'list'>\n"
     ]
    }
   ],
   "source": [
    "# working on dict writers\n",
    "my_my = [('Accrual Date', '12.17.2018'), ('Firm Matter #', '46447.0019'), ('MDT Matter #', '34670'),\n",
    "         ('Unbilled Fees', '11992.64'), ('Unbilled Costs', '16.62'),\n",
    "         ('Unbilled third party vendors, experts, consultants', '-'),\n",
    "         ('Total Unbilled', '12009.26'), ('Case Name/ Description', 'InnoRa Arbitration'),\n",
    "         ('MDT attorney handling matter', '')]\n",
    "my_my_2 = ['12.17.2018', '46447.0019', '34670', '11992.64', '16.62', '-', '12009.26', 'InnoRa Arbitration', '']\n",
    "my_my_3 = ['Accrual Date', 'Firm Matter #', 'MDT Matter #', 'Unbilled Fees', 'Unbilled Costs',\n",
    "           'Unbilled third party vendors, experts, consultants', 'Total Unbilled', 'Case Name/ Description',\n",
    "           'MDT attorney handling matter']\n",
    "\n",
    "c = dict(zip(my_my_3, my_my_2))\n",
    "with open('newer_names.csv', 'w', newline='') as new_file:\n",
    "    fieldnames = my_my_3\n",
    "    csv_writer = csv.DictWriter(new_file, fieldnames=fieldnames, delimiter=',')\n",
    "    csv_writer.writeheader()\n",
    "    csv_writer.writerow(c)\n",
    "print(type(my_my))"
   ]
  },
  {
   "cell_type": "code",
   "execution_count": 9,
   "metadata": {},
   "outputs": [
    {
     "name": "stdout",
     "output_type": "stream",
     "text": [
      "{'Accrual Date': '12.17.2018', 'Firm Matter #': '46447.0019', 'MDT Matter #': '34670', 'Unbilled Fees': '11992.64', 'Unbilled Costs': '16.62', 'Unbilled third party vendors, experts, consultants': '-', 'Total Unbilled': '12009.26', 'Case Name/ Description': 'InnoRa Arbitration', 'MDT attorney handling matter': ''}\n"
     ]
    }
   ],
   "source": [
    "# working on dict writers\n",
    "my_my_2 = ['12.17.2018', '46447.0019', '34670', '11992.64', '16.62', '-', '12009.26', 'InnoRa Arbitration', '']\n",
    "fieldnames = ['Accrual Date', 'Firm Matter #', 'MDT Matter #', 'Unbilled Fees', 'Unbilled Costs',\n",
    "           'Unbilled third party vendors, experts, consultants', 'Total Unbilled', 'Case Name/ Description',\n",
    "           'MDT attorney handling matter']\n",
    "\n",
    "c = dict(zip(fieldnames, my_my_2))\n",
    "with open('newer_names.csv', 'w', newline='') as new_file:\n",
    "    fieldnames = fieldnames\n",
    "    csv_writer = csv.DictWriter(new_file, fieldnames=fieldnames, delimiter=',')\n",
    "    csv_writer.writeheader()\n",
    "    csv_writer.writerow(c)\n",
    "print(c)"
   ]
  },
  {
   "cell_type": "code",
   "execution_count": 10,
   "metadata": {},
   "outputs": [
    {
     "name": "stdout",
     "output_type": "stream",
     "text": [
      "{'Accrual Date': '12.17.2018', 'Firm Matter #': '46447.0019', 'MDT Matter #': '34670', 'Unbilled Fees': '11992.64', 'Unbilled Costs': '16.62', 'Unbilled third party vendors, experts, consultants': '-', 'Total Unbilled': '12009.26', 'Case Name/ Description': 'InnoRa Arbitration', 'MDT attorney handling matter': ''}\n",
      "<class 'dict'>\n"
     ]
    }
   ],
   "source": [
    "\"\"\"\n",
    "working on dict writers FIELDNAMES MUST BE CREATED AND ARE REQUIRED!!!!!!\n",
    "making a dictinoary from a list\n",
    "\"\"\"\n",
    "my_my = dict([('Accrual Date', '12.17.2018'), ('Firm Matter #', '46447.0019'), ('MDT Matter #', '34670'),\n",
    "         ('Unbilled Fees', '11992.64'), ('Unbilled Costs', '16.62'),\n",
    "         ('Unbilled third party vendors, experts, consultants', '-'),\n",
    "         ('Total Unbilled', '12009.26'), ('Case Name/ Description', 'InnoRa Arbitration'),\n",
    "         ('MDT attorney handling matter', '')])\n",
    "my_my_2 = ['12.17.2018', '46447.0019', '34670', '11992.64', '16.62', '-', '12009.26', 'InnoRa Arbitration', '']\n",
    "fieldnames = ['Accrual Date', 'Firm Matter #', 'MDT Matter #', 'Unbilled Fees', 'Unbilled Costs',\n",
    "           'Unbilled third party vendors, experts, consultants', 'Total Unbilled', 'Case Name/ Description',\n",
    "           'MDT attorney handling matter']\n",
    "\n",
    "c = dict(zip(fieldnames, my_my_2))\n",
    "with open('newer_names.csv', 'w', newline='') as new_file:\n",
    "    fieldnames = fieldnames\n",
    "    csv_writer = csv.DictWriter(new_file, fieldnames=fieldnames, delimiter=',')\n",
    "    csv_writer.writeheader()\n",
    "    csv_writer.writerow(c)\n",
    "    # csv_writer.writerow(my_my)\n",
    "print(c)\n",
    "print(type(my_my))"
   ]
  },
  {
   "cell_type": "code",
   "execution_count": 8,
   "metadata": {},
   "outputs": [
    {
     "name": "stdout",
     "output_type": "stream",
     "text": [
      "<class 'dict'>\n",
      "['jack', 'sape']\n",
      "{'jack': 4098, 'sape': 4139, 'guido': 4127, 'chad': None}\n",
      "['chad', 'guido', 'jack', 'sape']\n",
      "4098\n",
      "{'jack': 4098, 'guido': 4127, 'chad': None, 'irv': 4127} tel with irv\n",
      "['jack', 'guido', 'chad', 'irv'] tel cast to a list. And it drops the values.  Why does this print without the values?\n",
      "['chad', 'guido', 'irv', 'jack'] this is still a list so prints without values.  Compare to sorted tel above in this cell.\n",
      "True\n",
      "False\n",
      "False\n"
     ]
    }
   ],
   "source": [
    "tel = {'jack': 4098, 'sape': 4139}\n",
    "print(type(tel))\n",
    "print(sorted(tel))\n",
    "tel['guido'] = 4127\n",
    "tel['chad'] = None\n",
    "print(tel)\n",
    "aa = sorted(tel)\n",
    "print(aa)\n",
    "print(tel['jack'])\n",
    "del tel['sape']\n",
    "tel['irv'] = 4127\n",
    "print(tel, 'tel with irv')\n",
    "print(list(tel), 'tel cast to a list. And it drops the values.  Why does this print without the values?')\n",
    "print(sorted(tel), 'this is still a list so prints without values.  Compare to sorted tel above in this cell.')\n",
    "['guido', 'irv', 'jack']\n",
    "print('guido' in tel)\n",
    "print('jack' not in tel)\n",
    "print('bobbi' in tel)"
   ]
  },
  {
   "cell_type": "code",
   "execution_count": 12,
   "metadata": {},
   "outputs": [
    {
     "name": "stdout",
     "output_type": "stream",
     "text": [
      "defaultdict(<class 'list'>, {'yellow': [1, 3], 'blue': [2, 4], 'red': [1]})\n"
     ]
    }
   ],
   "source": [
    "from collections import defaultdict\n",
    "s = [('yellow', 1), ('blue', 2), ('yellow', 3), ('blue', 4), ('red', 1)]\n",
    "d = defaultdict(list)\n",
    "for k, v in s:\n",
    "    d[k].append(v)\n",
    "print(d)"
   ]
  },
  {
   "cell_type": "code",
   "execution_count": 2,
   "metadata": {},
   "outputs": [
    {
     "name": "stdout",
     "output_type": "stream",
     "text": [
      "<class 'type'>\n",
      "Point(x=11, y=22)\n",
      "11 22\n",
      "33\n",
      "11 22\n",
      "22 11\n",
      "AOP(fscl_yr=2019, q1=100, q2=100, q3=50, q4=50) 2019 100\n",
      "1\n",
      "2019\n",
      "50\n",
      "300\n",
      "type of t is  <class 'list'> [11, 22]\n",
      "type of t is now  <class '__main__.Point'> Point(x=11, y=22)\n",
      "11\n",
      "this is z 2369\n",
      "var is a  <class 'collections.OrderedDict'> OrderedDict([('fscl_yr', 2019), ('q1', 100), ('q2', 100), ('q3', 50), ('q4', 50)])\n",
      "odict_keys(['fscl_yr', 'q1', 'q2', 'q3', 'q4'])\n",
      "odict_values([2019, 100, 100, 50, 50])\n",
      "this is y: AOP(fscl_yr=2019, q1=100, q2=300, q3=50, q4=50)\n",
      "('fscl_yr', 'q1', 'q2', 'q3', 'q4')\n",
      "AOP(fscl_yr=2019, q1=34, q2=56, q3=56, q4=59)\n",
      "AOP(fscl_yr=2019, q1=34, q2=56, q3=56, q4=0)\n",
      "Account(type='premium', balance=5000)\n",
      "printing an attribute aka value:  100\n",
      "this is a tup, which is a dict: Point(x=11, y=22)\n",
      "('x', 'y', 'z')\n",
      "('x', 'y')\n",
      "seq is  <class 'tuple'>\n",
      "OrderedDict([('name', None), ('age', None), ('sex', None)])\n",
      "seq is  <class 'list'>\n",
      "OrderedDict([('name', None), ('age', None), ('sex', None)])\n",
      "original dictionary: OrderedDict([('a', None), ('b', None), ('c', None), ('d', None), ('e', None)])\n",
      "b moved to end: OrderedDict([('a', None), ('c', None), ('d', None), ('e', None), ('b', None)])\n",
      "tt: a<>c<>d<>e<>b\n",
      "OrderedDict([('a', None), ('c', None), ('d', None), ('e', None), ('b', None)])\n",
      "odict_values([None, 'y', None, None, None])\n"
     ]
    }
   ],
   "source": [
    "\"\"\"\n",
    "playing with named tuples\n",
    "\"\"\"\n",
    "\n",
    "from collections import namedtuple\n",
    "from collections import OrderedDict\n",
    "\n",
    "aop = namedtuple('AOP', ['fscl_yr', 'q1','q2','q3','q4'], defaults=[0])  # after the last comma is not required\n",
    "Point = namedtuple('Point', ['x', 'y'])\n",
    "# can't get this to work split_lst = namedtuple('Split1', [(8, 4, 6), (1, 2, 3)])\n",
    "Account = namedtuple('Account', ['type', 'balance'], defaults=[5000]) # after the last comma is not required\n",
    "print(type(Account))\n",
    "\n",
    "\n",
    "\n",
    "\n",
    "p = Point(11, y=22)     # instantiate with positional or keyword arguments\n",
    "p[0] + p[1]             # indexable like the plain tuple (11, 22)\n",
    "print(p)                # readable __repr__ with a name=value style\n",
    "print(p[0], p[1])       # indexable like the plain tuple (11, 22)\n",
    "print(p.x + p.y)        # fields also accessible by name\n",
    "\n",
    "x, y = p                # unpack like a regular tuple\n",
    "print(x, y)\n",
    "print(y, x)\n",
    "\n",
    "a = aop(2019, 100, 100, 50, 50)\n",
    "# a = aop('2019', 100, 100, 50, 50)\n",
    "print(a, a[0], a[1])\n",
    "print(a.index(100))\n",
    "print(a.fscl_yr)\n",
    "print(a.q4)\n",
    "\n",
    "c = a.q1 + a.q2 + a.q3 + a.q4\n",
    "print(c)\n",
    "\n",
    "t = [11, 22]\n",
    "print('type of t is ', type(t), t)\n",
    "HH = Point._make(t)\n",
    "print('type of t is now ', type(HH), HH)\n",
    "print(HH.x)              # a regular tupe throws an error, e.g., print(t.x)\n",
    "\n",
    "\n",
    "z = sum(a, a[3])         # this sums the entire namedtuple, and requires that all elements are numbers\n",
    "print('this is z', z)\n",
    "\n",
    "\n",
    "var = a._asdict()        # convert the named tuple to a dict\n",
    "print('var is a ', type(var), var)\n",
    "print(var.keys())\n",
    "print(var.values())\n",
    "\n",
    "y = a._replace(q2=300)\n",
    "print('this is y:', y)\n",
    "print(a._fields)\n",
    "#print(a._field_defaults)\n",
    "\n",
    "bz = aop(2019, 34, 56, 56, 59)   # this works see the opening class\n",
    "print(bz)\n",
    "bz1 = aop(2019, 34, 56, 56)      # this works see opening class has to do with the last comma\n",
    "print(bz1)\n",
    "# bz2 = aop(2019, 34, 56,)         # this doesn't work see opening class has to do with last comma\n",
    "# print(bz2)\n",
    "rt = Account('premium')\n",
    "print(rt)                        # Account(type='premium', balance=5000)\n",
    "\n",
    "\"\"\"\n",
    "To retrieve a field whose name is stored in a string, use the getattr() function:\n",
    "\"\"\"\n",
    "q = getattr(a, 'q2')\n",
    "print('printing an attribute aka value: ', q)\n",
    "\n",
    "'''\n",
    "To convert a dictionary to a named tuple, use the ** operator (as described in Unpacking Argument Lists):\n",
    "'''\n",
    "d = {'x': 11, 'y': 22}\n",
    "tup = Point(**d)\n",
    "print('this is a tup, which is a dict:', tup)\n",
    "\n",
    "# instead of subclassing Adefield\n",
    "Point3D = namedtuple('Point3D', Point._fields + ('z',))\n",
    "\n",
    "print(Point3D._fields) \n",
    "print(Point._fields)\n",
    "\n",
    "\n",
    "# ordered dictionary \n",
    "seq = ('name', 'age', 'sex')\n",
    "print('seq is ', type(seq))\n",
    "dt = OrderedDict.fromkeys(seq)   # from a tuple\n",
    "print(dt)\n",
    "\n",
    "seq = ['name', 'age', 'sex']\n",
    "print('seq is ', type(seq))\n",
    "dt = OrderedDict.fromkeys(seq)   # from a list\n",
    "print(dt)\n",
    "\n",
    "d = OrderedDict.fromkeys('abcde')\n",
    "print('original dictionary:', d)\n",
    "d.move_to_end('b')\n",
    "print('b moved to end:', d)\n",
    "tt = '<>'.join(d.keys())\n",
    "print('tt:', tt)\n",
    "print(d)\n",
    "d.move_to_end('b', last=False)\n",
    "''.join(d.keys())\n",
    "# e = OrderedDict.fromkeys(['one', 'two')\n",
    "# print(e)\n",
    "d['a']= 'y'\n",
    "d.b = 567\n",
    "print(d.values()) \n",
    "\n",
    "\n"
   ]
  },
  {
   "cell_type": "code",
   "execution_count": 72,
   "metadata": {},
   "outputs": [
    {
     "name": "stdout",
     "output_type": "stream",
     "text": [
      "List to array: \n",
      "[1 2 3 4 5 6 7 8]\n",
      "[[1 2 3 4]\n",
      " [5 6 7 8]]\n",
      "Tuple to array: \n",
      "[[8 4 6]\n",
      " [1 2 3]]\n",
      "[[0 1]\n",
      " [2 3]\n",
      " [4 5]]\n",
      "[[0 1 2]\n",
      " [3 4 5]]\n"
     ]
    }
   ],
   "source": [
    "import numpy as np\n",
    "my_list = [1, 2, 3, 4, 5, 6, 7, 8]\n",
    "print(\"List to array: \")\n",
    "a = np.asarray(my_list)\n",
    "print(a)\n",
    "print(a.reshape(2, 4))\n",
    "my_tuple = ([8, 4, 6], [1, 2, 3])\n",
    "print(\"Tuple to array: \")\n",
    "print(np.asarray(my_tuple))\n",
    "a = np.arange(6).reshape((3, 2))\n",
    "print(a)\n",
    "a = np.arange(6).reshape((2, 3))\n",
    "print(a)"
   ]
  },
  {
   "cell_type": "code",
   "execution_count": 25,
   "metadata": {},
   "outputs": [
    {
     "name": "stdout",
     "output_type": "stream",
     "text": [
      "New Dictionary : {'name': None, 'age': None, 'sex': None}\n",
      "New Dictionary : {'name': 10, 'age': 10, 'sex': 10}\n"
     ]
    }
   ],
   "source": [
    "seq = ('name', 'age', 'sex')\n",
    "dict = dict.fromkeys(seq)\n",
    "print(\"New Dictionary : %s\" %  str(dict))\n",
    "\n",
    "dict = dict.fromkeys(seq, 10)\n",
    "print(\"New Dictionary : %s\" %  str(dict))"
   ]
  },
  {
   "cell_type": "code",
   "execution_count": 23,
   "metadata": {},
   "outputs": [
    {
     "name": "stdout",
     "output_type": "stream",
     "text": [
      "{'sape': 4139, 'guido': 4127, 'jack': 4098}\n",
      "4127 {'sape': 4139, 'guido': 4127, 'jack': 4098}\n",
      "<class 'tuple'> type of b\n",
      "<class 'dict'> {'date': '12/23/2019'}\n",
      "<class 'dict'> {'date': '12/23/2019'}\n",
      "<class 'set'> type of e\n",
      "<class 'dict'> {'date': '12/23/2019'}\n"
     ]
    },
    {
     "data": {
      "text/plain": [
       "{'sape': 4139, 'guido': 4127, 'jack': 4098}"
      ]
     },
     "execution_count": 23,
     "metadata": {},
     "output_type": "execute_result"
    }
   ],
   "source": [
    "# more fun with dictionaries\n",
    "# dictionaries from tuples\n",
    "# The dict() constructor builds dictionaries directly from sequences of key-value pairs\n",
    "a = dict([('sape', 4139), ('guido', 4127), ('jack', 4098)])\n",
    "print(a)\n",
    "print(a['guido'], a)\n",
    "b = ('date', '12/23/2019')\n",
    "print(type(b), 'type of b')\n",
    "c = dict([b])\n",
    "print(type(c), c)\n",
    "d = dict([('date', '12/23/2019')])\n",
    "print(type(d), d)\n",
    "e = {('date', '12/23/2019')}\n",
    "print(type(e), 'type of e')\n",
    "# The dict() constructor builds dictionaries directly from sequences of key-value pairs\n",
    "f = dict([('date', '12/23/2019')])\n",
    "print(type(f), f)\n",
    "g = dict(sape=4139, guido=4127, jack=4098)\n",
    "g"
   ]
  },
  {
   "cell_type": "code",
   "execution_count": 24,
   "metadata": {},
   "outputs": [
    {
     "name": "stdout",
     "output_type": "stream",
     "text": [
      "{'jack': 4098, 'sape': 4139}\n",
      "{'jack': 4098, 'sape': 4139, 'guido': 4127}\n",
      "{'jack': 4098, 'sape': 4139, 'guido': 4127}\n",
      "{'jack': 4098, 'sape': 4139, 'guido': 4127, 'irv': 4127}\n"
     ]
    },
    {
     "data": {
      "text/plain": [
       "dict_keys(['jack', 'sape', 'guido', 'irv'])"
      ]
     },
     "execution_count": 24,
     "metadata": {},
     "output_type": "execute_result"
    }
   ],
   "source": [
    "dict(sape=4139, guido=4127, jack=4098)\n",
    "tel = {'jack': 4098, 'sape': 4139}\n",
    "print(tel)\n",
    "tel['guido'] = 4127\n",
    "print(tel)\n",
    "# {'sape': 4139, 'guido': 4127, 'jack': 4098}\n",
    "tel['jack']\n",
    "print(tel)\n",
    "tel['irv'] = 4127\n",
    "print(tel)\n",
    "tel.keys()\n"
   ]
  },
  {
   "cell_type": "markdown",
   "metadata": {},
   "source": [
    "What?"
   ]
  },
  {
   "cell_type": "code",
   "execution_count": 21,
   "metadata": {},
   "outputs": [
    {
     "name": "stdout",
     "output_type": "stream",
     "text": [
      "<class 'list'> type of my_my\n",
      "<class 'dict'> this is type of g\n",
      "<class 'dict'> type of h\n",
      "9 length of h\n",
      "12009.26 this is total unbilled\n",
      "dict_keys(['Accrual Date', 'Firm Matter #', 'MDT Matter #', 'Unbilled Fees', 'Unbilled Costs', 'Unbilled third party vendors, experts, consultants', 'Total Unbilled', 'Case Name/ Description', 'MDT attorney handling matter'])\n",
      "dict_values(['12.17.2018', '46447.0019', '34670', '11992.64', '16.62', '-', '12009.26', 'InnoRa Arbitration', ''])\n",
      "12.17.2018 this is Accrual date\n",
      "dict_keys(['Firm Matter #', 'MDT Matter #', 'Unbilled Fees', 'Unbilled Costs', 'Unbilled third party vendors, experts, consultants', 'Total Unbilled', 'Case Name/ Description', 'MDT attorney handling matter'])\n",
      "False\n",
      "True\n",
      "{'Firm Matter #': '46447.0019', 'MDT Matter #': '34670', 'Unbilled Fees': '11992.64', 'Unbilled Costs': '16.62', 'Unbilled third party vendors, experts, consultants': '-', 'Total Unbilled': '12009.26', 'Case Name/ Description': 'InnoRa Arbitration', 'MDT attorney handling matter': ''}\n",
      "Not Found\n",
      "12009.26\n",
      "12009.26\n",
      "('MDT attorney handling matter', '')\n",
      "None\n",
      "{'Firm Matter #': '46447.0019', 'MDT Matter #': '34670', 'Unbilled Fees': '11992.64', 'Unbilled Costs': '16.62', 'Unbilled third party vendors, experts, consultants': '-', 'Case Name/ Description': 'InnoRa Arbitration', 'testkey': 'test value'}\n"
     ]
    }
   ],
   "source": [
    "my_my = [('Accrual Date', '12.17.2018'), ('Firm Matter #', '46447.0019'), ('MDT Matter #', '34670'),\n",
    "         ('Unbilled Fees', '11992.64'), ('Unbilled Costs', '16.62'),\n",
    "         ('Unbilled third party vendors, experts, consultants', '-'),\n",
    "         ('Total Unbilled', '12009.26'), ('Case Name/ Description', 'InnoRa Arbitration'),\n",
    "         ('MDT attorney handling matter', '')]\n",
    "print(type(my_my), 'type of my_my')\n",
    "g = dict([my_my[0]])\n",
    "print(type(g), 'this is type of g')\n",
    "h = dict([('Accrual Date', '12.17.2018'), ('Firm Matter #', '46447.0019'), ('MDT Matter #', '34670'),\n",
    "         ('Unbilled Fees', '11992.64'), ('Unbilled Costs', '16.62'),\n",
    "         ('Unbilled third party vendors, experts, consultants', '-'),\n",
    "         ('Total Unbilled', '12009.26'), ('Case Name/ Description', 'InnoRa Arbitration'),\n",
    "         ('MDT attorney handling matter', '')])\n",
    "print(type(h), 'type of h')\n",
    "print(len(h), 'length of h')\n",
    "print(h['Total Unbilled'], 'this is total unbilled')\n",
    "print(h.keys())\n",
    "# print(h.keys(2)) TypeError: keys() takes no arguments (1 given)\n",
    "print(h.values())\n",
    "print(h['Accrual Date'], 'this is Accrual date') \n",
    "# print(h['12.17.2018'])  KeyError: '12.17.2018'\n",
    "del h['Accrual Date']\n",
    "print(h.keys())\n",
    "print('Accrual Date' in h)\n",
    "print('Accrual Date' not in h)\n",
    "zz = iter(h)\n",
    "yy = h.copy()\n",
    "print(yy)\n",
    "# h.clear()\n",
    "# print(h)\n",
    "print(h.get('Accrual Date', 'Not Found')) #returns the value but does NOT remove it\n",
    "print(h.get('Total Unbilled', 'Not Found'))\n",
    "print(h.pop('Total Unbilled', 'not found??')) #key in dict: remove & return value, else return default; if no default err.\n",
    "print(h.popitem()) #Remove and return a (key, value) pair from the dictionary. Pairs are returned in LIFO order.\n",
    "print(h.update(testkey='test value')) #Update the dictionary with the key/value pairs from other, overwriting existing keys. Return None.\n",
    "print(h)"
   ]
  },
  {
   "cell_type": "markdown",
   "metadata": {},
   "source": [
    "d[key]\n",
    "Return the item of d with key key. Raises a KeyError if key is not in the map.\n",
    "\n",
    "If a subclass of dict defines a method __missing__() and key is not present, the d[key] operation calls that method with the key key as argument. The d[key] operation then returns or raises whatever is returned or raised by the __missing__(key) call. No other operations or methods invoke __missing__(). If __missing__() is not defined, KeyError is raised. __missing__() must be a method; it cannot be an instance variable:"
   ]
  },
  {
   "cell_type": "code",
   "execution_count": 25,
   "metadata": {},
   "outputs": [
    {
     "name": "stdout",
     "output_type": "stream",
     "text": [
      "0\n",
      "1 now works\n"
     ]
    }
   ],
   "source": [
    "class Counter(dict):\n",
    "    def __missing__(self, key):\n",
    "        return 0\n",
    "c = Counter()\n",
    "print(c['red'])\n",
    "c['red'] += 1\n",
    "print(c['red'], 'now works')"
   ]
  },
  {
   "cell_type": "code",
   "execution_count": 26,
   "metadata": {},
   "outputs": [
    {
     "name": "stdout",
     "output_type": "stream",
     "text": [
      "Dictionary a: {'one': 1, 'two': 2, 'three': 3}\n",
      "Dictionary e: {'three': 3, 'one': 1, 'two': 2}\n",
      "Updated Dictionary a: {'one': 1, 'two': 2, 'three': 3}\n",
      "Updated Dictionary e: ['PIC', 'Venue', 'file number', 'one', 'three', 'two']\n",
      "{'three': 3, 'one': 1, 'two': 2, 'file number': 3, 'PIC': 1, 'Venue': 2}\n",
      "{'file number': 3, 'PIC': 1, 'Venue': 2, 'three': 3, 'one': 1, 'two': 2}\n",
      "dict_keys(['file number', 'PIC', 'Venue', 'three', 'one', 'two'])\n",
      "this is z: {'file number': 3, 'PIC': 1, 'Venue': 2, 'three': 3, 'one': 1, 'two': 2}\n",
      "{'file number': 3, 'PIC': 1, 'Venue': 2}\n",
      "{'file number': 3, 'Venue': 2, 'ATTY': 1}\n"
     ]
    }
   ],
   "source": [
    "a = dict(one=1, two=2, three=3)\n",
    "b = {'one': 1, 'two': 2, 'three': 3}\n",
    "c = dict(zip(['one', 'two', 'three'], [1, 2, 3]))\n",
    "d = dict([('two', 2), ('one', 1), ('three', 3)]) # note the order change\n",
    "e = dict({'three': 3, 'one': 1, 'two': 2})\n",
    "f = dict({'file number': 3, 'PIC': 1, 'Venue': 2})\n",
    "# f = dict(('two', 2), ('one', 1)) # TypeError: dict expected at most 1 arguments, got 2\n",
    "# print(a == b == c == d == e)\n",
    "\n",
    "print('Dictionary a:', a)\n",
    "print('Dictionary e:', e)\n",
    "a.update(e)\n",
    "print('Updated Dictionary a:', a)\n",
    "e.update(f)\n",
    "print('Updated Dictionary e:', sorted(e))\n",
    "print(e)\n",
    "f.update(e)\n",
    "print(f)\n",
    "print(f.keys())\n",
    "\n",
    "g = dict({'three': 3, 'one': 1, 'two': 2})\n",
    "h = dict({'file number': 3, 'PIC': 1, 'Venue': 2})\n",
    "z = {**h, **g}\n",
    "print('this is z:', z)\n",
    "\n",
    "\n",
    "i = dict({'three': 3, 'one': 1, 'two': 2})\n",
    "j = dict({'file number': 3, 'PIC': 1, 'Venue': 2})\n",
    "print(j)\n",
    "j['ATTY'] = j.pop('PIC')\n",
    "print(j)"
   ]
  },
  {
   "cell_type": "code",
   "execution_count": 36,
   "metadata": {},
   "outputs": [
    {
     "name": "stdout",
     "output_type": "stream",
     "text": [
      "<class 'dict'>\n"
     ]
    },
    {
     "data": {
      "text/plain": [
       "{'Matter': [8345, 85, 't88', 85],\n",
       " 'PIC': ['cah', 'tim', 'kar', 'ram'],\n",
       " 'forecast': [2, 3, 22, 32],\n",
       " 'accrual': [50, 55, 65, 55],\n",
       " 'File#': [2001, 2002, 't2003', 'tg2004']}"
      ]
     },
     "execution_count": 36,
     "metadata": {},
     "output_type": "execute_result"
    }
   ],
   "source": [
    "zz = dict({'Matter':[8345,85,\"t88\",85],\n",
    "           'PIC':['cah', 'tim', 'kar', 'ram'],\n",
    "           'forecast':[2, 3, 22, 32],\n",
    "           'accrual':[50, 55, 65, 55],\n",
    "           'File#' : [2001, 2002, 't2003', 'tg2004']})\n",
    "print(type(zz))\n",
    "zz['PIC']\n",
    "zz"
   ]
  },
  {
   "cell_type": "code",
   "execution_count": 37,
   "metadata": {},
   "outputs": [
    {
     "name": "stdout",
     "output_type": "stream",
     "text": [
      "<class 'collections.OrderedDict'>\n",
      "here is i: Matter\n",
      "this is x: 8345\n",
      "this is zz[i]: [8345, 85, 't88', 85]\n",
      "here is i: Matter\n",
      "this is x: 85\n",
      "this is zz[i]: [8345, 85, 't88', 85]\n",
      "here is i: Matter\n",
      "this is x: t88\n",
      "this is zz[i]: [8345, 85, 't88', 85]\n",
      "here is i: Matter\n",
      "this is x: 85\n",
      "this is zz[i]: [8345, 85, 't88', 85]\n",
      "here is i: PIC\n",
      "this is x: cah\n",
      "this is zz[i]: ['cah', 'tim', 'kar', 'ram']\n",
      "here is i: PIC\n",
      "this is x: tim\n",
      "this is zz[i]: ['cah', 'tim', 'kar', 'ram']\n",
      "here is i: PIC\n",
      "this is x: kar\n",
      "this is zz[i]: ['cah', 'tim', 'kar', 'ram']\n",
      "here is i: PIC\n",
      "this is x: ram\n",
      "this is zz[i]: ['cah', 'tim', 'kar', 'ram']\n",
      "here is i: forecast\n",
      "this is x: (2, 4, 6, 8)\n",
      "this is zz[i]: [(2, 4, 6, 8), 3, 22, 32]\n",
      "here is i: forecast\n",
      "this is x: 3\n",
      "this is zz[i]: [(2, 4, 6, 8), 3, 22, 32]\n",
      "here is i: forecast\n",
      "this is x: 22\n",
      "this is zz[i]: [(2, 4, 6, 8), 3, 22, 32]\n",
      "here is i: forecast\n",
      "this is x: 32\n",
      "this is zz[i]: [(2, 4, 6, 8), 3, 22, 32]\n",
      "here is i: accrual\n",
      "this is x: 50\n",
      "this is zz[i]: [50, 55, 65, 55]\n",
      "here is i: accrual\n",
      "this is x: 55\n",
      "this is zz[i]: [50, 55, 65, 55]\n",
      "here is i: accrual\n",
      "this is x: 65\n",
      "this is zz[i]: [50, 55, 65, 55]\n",
      "here is i: accrual\n",
      "this is x: 55\n",
      "this is zz[i]: [50, 55, 65, 55]\n",
      "here is i: File#\n",
      "this is x: 2001\n",
      "this is zz[i]: [2001, 2002, 't2003', 'tg2004']\n",
      "here is i: File#\n",
      "this is x: 2002\n",
      "this is zz[i]: [2001, 2002, 't2003', 'tg2004']\n",
      "here is i: File#\n",
      "this is x: t2003\n",
      "this is zz[i]: [2001, 2002, 't2003', 'tg2004']\n",
      "here is i: File#\n",
      "this is x: tg2004\n",
      "this is zz[i]: [2001, 2002, 't2003', 'tg2004']\n"
     ]
    },
    {
     "data": {
      "text/html": [
       "<div>\n",
       "<style scoped>\n",
       "    .dataframe tbody tr th:only-of-type {\n",
       "        vertical-align: middle;\n",
       "    }\n",
       "\n",
       "    .dataframe tbody tr th {\n",
       "        vertical-align: top;\n",
       "    }\n",
       "\n",
       "    .dataframe thead th {\n",
       "        text-align: right;\n",
       "    }\n",
       "</style>\n",
       "<table border=\"1\" class=\"dataframe\">\n",
       "  <thead>\n",
       "    <tr style=\"text-align: right;\">\n",
       "      <th></th>\n",
       "      <th>Matter</th>\n",
       "      <th>PIC</th>\n",
       "      <th>forecast</th>\n",
       "      <th>accrual</th>\n",
       "      <th>File#</th>\n",
       "    </tr>\n",
       "  </thead>\n",
       "  <tbody>\n",
       "    <tr>\n",
       "      <th>0</th>\n",
       "      <td>8345</td>\n",
       "      <td>cah</td>\n",
       "      <td>(2, 4, 6, 8)</td>\n",
       "      <td>50</td>\n",
       "      <td>2001</td>\n",
       "    </tr>\n",
       "    <tr>\n",
       "      <th>1</th>\n",
       "      <td>85</td>\n",
       "      <td>tim</td>\n",
       "      <td>3</td>\n",
       "      <td>55</td>\n",
       "      <td>2002</td>\n",
       "    </tr>\n",
       "    <tr>\n",
       "      <th>2</th>\n",
       "      <td>t88</td>\n",
       "      <td>kar</td>\n",
       "      <td>22</td>\n",
       "      <td>65</td>\n",
       "      <td>t2003</td>\n",
       "    </tr>\n",
       "    <tr>\n",
       "      <th>3</th>\n",
       "      <td>85</td>\n",
       "      <td>ram</td>\n",
       "      <td>32</td>\n",
       "      <td>55</td>\n",
       "      <td>tg2004</td>\n",
       "    </tr>\n",
       "  </tbody>\n",
       "</table>\n",
       "</div>"
      ],
      "text/plain": [
       "  Matter  PIC      forecast  accrual   File#\n",
       "0   8345  cah  (2, 4, 6, 8)       50    2001\n",
       "1     85  tim             3       55    2002\n",
       "2    t88  kar            22       65   t2003\n",
       "3     85  ram            32       55  tg2004"
      ]
     },
     "execution_count": 37,
     "metadata": {},
     "output_type": "execute_result"
    }
   ],
   "source": [
    "# this is key!!! chad chaz look at the tuple and see junk pile at a chazzer\n",
    "import collections\n",
    "zz = collections.OrderedDict({'Matter':[8345,85,\"t88\",85],\n",
    "           'PIC':['cah', 'tim', 'kar', 'ram'],\n",
    "           'forecast':[(2, 4, 6, 8), 3, 22, 32],\n",
    "           'accrual':[50, 55, 65, 55],\n",
    "           'File#' : [2001, 2002, 't2003', 'tg2004']})\n",
    "print(type(zz))\n",
    "zz['PIC']\n",
    "zz\n",
    "\n",
    "for i in zz:\n",
    "    for x in zz[i]:\n",
    "        print('here is i:', i)\n",
    "        print('this is x:', x)\n",
    "        print('this is zz[i]:', zz[i])\n",
    "        # whatever with k, x\n",
    "# zz.values()\n",
    "import pandas as pd\n",
    "g = pd.DataFrame(zz)\n",
    "g"
   ]
  },
  {
   "cell_type": "markdown",
   "metadata": {},
   "source": [
    "Performing list(d) on a dictionary returns a list of all the keys used in the dictionary, \n",
    "in insertion order (if you want it sorted, just use sorted(d) instead). \n",
    "To check whether a single key is in the dictionary, use the in keyword.\n",
    "\n",
    "When looping through dictionaries, the key and corresponding value can be retrieved at the same time using the items() method.\n",
    "\n",
    "When looping through a sequence, the position index and corresponding value can be retrieved at the same time using the enumerate() function.\n",
    "\n",
    "To loop over two or more sequences at the same time, the entries can be paired with the zip() function.\n",
    "\n",
    "To loop over a sequence in reverse, first specify the sequence in a forward direction and then call the reversed() function.\n",
    "\n",
    "To loop over a sequence in sorted order, use the sorted() function which returns a new sorted list while leaving the source unaltered."
   ]
  },
  {
   "cell_type": "code",
   "execution_count": null,
   "metadata": {},
   "outputs": [],
   "source": [
    "tel = {'jack': 4098, 'sape': 4139, 'awhatter': 413956}\n",
    "print(list(tel))\n",
    "print(sorted(tel))\n",
    "\n",
    "knights = {'gallahad': 'the pure', 'robin': 'the brave'}\n",
    "for k, v in knights.items():\n",
    "    print(k, v, 'chad')\n",
    "    \n",
    "for i, v in enumerate(['tic', 'tac', 'toe']):\n",
    "    print(i, v)\n",
    "    \n",
    "questions = ['name', 'quest', 'favorite color']\n",
    "answers = ['lancelot', 'the holy grail', 'blue']\n",
    "for q, a in zip(questions, answers):\n",
    "    print('What is your {0}?  It is {1}.'.format(q, a))\n",
    "    \n",
    "for i in reversed(range(1, 10, 2)):\n",
    "    print(i)\n",
    "\n",
    "basket = ['apple', 'orange', 'apple', 'pear', 'orange', 'banana']\n",
    "for f in sorted(set(basket)):\n",
    "    print(f)"
   ]
  },
  {
   "cell_type": "code",
   "execution_count": 15,
   "metadata": {},
   "outputs": [
    {
     "name": "stdout",
     "output_type": "stream",
     "text": [
      "0.129870\n",
      "0.142857\n",
      "0.00806451612903226\n"
     ]
    }
   ],
   "source": [
    "from decimal import *\n",
    "getcontext().prec = 6\n",
    "print(Decimal(1) / Decimal(7.7))\n",
    "print(Decimal(1) / Decimal(7))\n",
    "# Decimal('0.142857')\n",
    "getcontext().prec = 15\n",
    "print(Decimal(1) / Decimal(124))\n",
    "# Decimal('0.1428571428571428571428571429')\n"
   ]
  },
  {
   "cell_type": "code",
   "execution_count": 14,
   "metadata": {},
   "outputs": [
    {
     "name": "stdout",
     "output_type": "stream",
     "text": [
      "C:\\Users\\hansoc10\\Desktop\\Programming\\Python\\datafiles\n",
      "3, 5\n",
      "<class 'tuple'> type of var?\n",
      ",\n",
      "4, 6\n",
      "<class 'tuple'> type of var?\n",
      ",\n",
      "test, tuplll\n",
      "<class 'tuple'> type of var?\n",
      "e\n"
     ]
    }
   ],
   "source": [
    "import os\n",
    "import csv\n",
    "print(os.getcwd())\n",
    "tuples = [(3, 5), (4, 6), ('test', 'tuplll')]\n",
    "with open('tuple file.csv', \"w\", newline='') as the_file:\n",
    "    # csv.register_dialect(\"custom\", delimiter=\",\", skipinitialspace=True)\n",
    "    writer = csv.writer(the_file, dialect='excel')\n",
    "    for tup in tuples:\n",
    "        writer.writerow(tup)\n",
    "        # writer.writerow('testing')\n",
    "with open('tuple file.csv', newline='') as csvfile:\n",
    "    spamreader = csv.reader(csvfile, dialect='excel', delimiter=',')\n",
    "    for row in spamreader:\n",
    "        var = ', '.join(row)\n",
    "        var = tuple(var)\n",
    "        print(', '.join(row))\n",
    "        print(type(var), 'type of var?')\n",
    "        print(var[1])"
   ]
  },
  {
   "cell_type": "code",
   "execution_count": 12,
   "metadata": {},
   "outputs": [
    {
     "name": "stdout",
     "output_type": "stream",
     "text": [
      "[('3', '5'), ('t', 'e', 's', 't', 'i', 'n', 'g'), ('4', '6'), ('t', 'e', 's', 't', 'i', 'n', 'g'), ('test', 'tuplll'), ('t', 'e', 's', 't', 'i', 'n', 'g')]\n"
     ]
    }
   ],
   "source": [
    "import csv\n",
    "with open('tuple file.csv') as f:\n",
    "    data=[tuple(line) for line in csv.reader(f)]\n",
    "    print(data)"
   ]
  },
  {
   "cell_type": "code",
   "execution_count": 9,
   "metadata": {},
   "outputs": [
    {
     "name": "stdout",
     "output_type": "stream",
     "text": [
      "('shark', 'cuttlefish', 'squid', 'mantis shrimp')\n",
      "('S', 'a', 'm', 'm', 'y')\n",
      "<class 'str'>\n",
      "sammy\n",
      "('s', 'a', 'm', 'm', 'y')\n",
      "('s', 'a', 'm', 'm', 'y')\n",
      "<class 'tuple'> ('sammy',)\n",
      "<class 'tuple'> ('sammy', 5, 60) 60 5 sammy\n"
     ]
    }
   ],
   "source": [
    "sea_creatures = ['shark', 'cuttlefish', 'squid', 'mantis shrimp']\n",
    "print(tuple(sea_creatures))\n",
    "print(tuple('Sammy'))\n",
    "d = ('sammy')\n",
    "print(type(d))\n",
    "print(d)\n",
    "print(tuple(d))\n",
    "e = tuple('sammy')\n",
    "print(e)\n",
    "f = 'sammy', \n",
    "print(type(f), f)\n",
    "g = ('sammy', 5, 60)\n",
    "print(type(g), g, g[2], g[1], g[0])"
   ]
  },
  {
   "cell_type": "code",
   "execution_count": 3,
   "metadata": {},
   "outputs": [
    {
     "name": "stdout",
     "output_type": "stream",
     "text": [
      "86\n"
     ]
    },
    {
     "data": {
      "text/plain": [
       "['task',\n",
       " 'Group',\n",
       " 'File#',\n",
       " 'Atty',\n",
       " 'BU',\n",
       " 'Type',\n",
       " 'sub',\n",
       " 'Case',\n",
       " \"Matt's Notes\",\n",
       " 'AFA',\n",
       " 'AFA Notes',\n",
       " 'Sig Matter',\n",
       " \"Add'l Comments\",\n",
       " 'May',\n",
       " 'June',\n",
       " 'July',\n",
       " 'Q1',\n",
       " 'Fcst as ofApr',\n",
       " 'Fcst as ofMay',\n",
       " 'Fcst as ofJun',\n",
       " 'CurrentFcst',\n",
       " 'Q1AOP',\n",
       " 'x',\n",
       " 'Aug',\n",
       " 'Sep',\n",
       " 'Oct',\n",
       " 'Q2',\n",
       " 'Fcst as ofApr',\n",
       " 'Fcst as ofMay',\n",
       " 'Fcst as ofJun',\n",
       " 'Fcst as ofJul',\n",
       " 'Fcst as ofAug',\n",
       " 'Fcst as ofSep',\n",
       " 'CurrentFcst',\n",
       " 'Q2AOP',\n",
       " 'x',\n",
       " 'Nov',\n",
       " 'Dec',\n",
       " 'Jan',\n",
       " 'Q3',\n",
       " 'Fcst as ofApr',\n",
       " 'Fcst as ofMay',\n",
       " 'Fcst as ofJun',\n",
       " 'Fcst as ofJul',\n",
       " 'Fcst as ofAug',\n",
       " 'Fcst as ofSep',\n",
       " 'Fcst as ofOct',\n",
       " 'Fcst as ofNov',\n",
       " 'Fcst as ofDec',\n",
       " 'CurrentFcst',\n",
       " 'Q3AOP',\n",
       " 'x',\n",
       " 'Feb',\n",
       " 'Mar',\n",
       " 'Apr',\n",
       " 'Feb',\n",
       " 'Fcst as ofApr',\n",
       " 'Fcst as ofMay',\n",
       " 'Fcst as ofJun',\n",
       " 'Fcst as ofJul',\n",
       " 'Fcst as ofAug',\n",
       " 'Fcst as ofSep',\n",
       " 'Fcst as ofOct',\n",
       " 'Fcst as ofNov',\n",
       " 'Fcst as ofDec',\n",
       " 'Fcst as ofJan',\n",
       " 'Fcst as ofFeb',\n",
       " 'Fcst as ofMar',\n",
       " 'CurrentFcst',\n",
       " 'Q4AOP',\n",
       " 'x',\n",
       " 'FY Actual',\n",
       " 'CurrentFY Fcst',\n",
       " 'FYAOP',\n",
       " 'x',\n",
       " 'FY20 as of JanQ1',\n",
       " 'FY20 as of JanQ2',\n",
       " 'FY20 as of JanQ3',\n",
       " 'FY20 as of JanQ4',\n",
       " 'FY20 as of JanFY',\n",
       " 'x',\n",
       " 'FY20Q1',\n",
       " 'FY20Q2',\n",
       " 'FY20Q3',\n",
       " 'FY20Q4',\n",
       " 'FY20FY']"
      ]
     },
     "execution_count": 3,
     "metadata": {},
     "output_type": "execute_result"
    }
   ],
   "source": [
    "# combining two different rows of data - in this case from Arneson's spreadsheet\n",
    "import csv\n",
    "import os\n",
    "os.chdir('C:/Users/hansoc10/Desktop/Programming/Python/datafiles/')\n",
    "# print(os.getcwd())\n",
    "# print(os.listdir())\n",
    "data_list = []\n",
    "with open('arneson_header.csv') as f:\n",
    "    data_list = [line for line in csv.reader(f)]\n",
    "a = data_list[0]\n",
    "b = data_list[1]\n",
    "print(len(a))\n",
    "for i in range(len(a)):\n",
    "        if len(a[i]) > 0:\n",
    "            b[i] = a[i] + b[i]\n",
    "with open('arneson_new_header.csv', 'w', newline='') as f:\n",
    "    csv_writer = csv.writer(f)\n",
    "    csv_writer.writerow(b)\n",
    "with open('arneson_new_header.txt', 'w', newline='') as f:\n",
    "    f.write(str(b))\n",
    "b"
   ]
  },
  {
   "cell_type": "code",
   "execution_count": 7,
   "metadata": {},
   "outputs": [
    {
     "name": "stdout",
     "output_type": "stream",
     "text": [
      "0 a b\n",
      "1 toto 6\n",
      "a b\n",
      "toto 6\n",
      "a 6\n",
      "toto 6\n",
      "toto a\n",
      "toto toto\n",
      "toto a\n",
      "toto\n",
      "toto toto\n",
      "toto\n"
     ]
    }
   ],
   "source": [
    "# for i, (key, value) in enumerate(a.iteritems()):\n",
    "#     # Do something with i, key, value\n",
    "d = {'a': 'b', 'toto': 6}\n",
    "# In Python 3.x, use dict.items() which returns an iterable dictionary view.\n",
    "\n",
    "for i, (key, value) in enumerate(d.items()):\n",
    "    print(i, key, value)\n",
    "        \n",
    "for (key, value) in d.items():\n",
    "    print(key, value)\n",
    "       \n",
    "for (key) in d:\n",
    "    print(key, value)\n",
    "        \n",
    "for (value) in d:\n",
    "    print(key, value)\n",
    "        \n",
    "for value in d:\n",
    "    print(key, value)\n",
    "    print(key)"
   ]
  },
  {
   "cell_type": "code",
   "execution_count": 6,
   "metadata": {},
   "outputs": [
    {
     "name": "stdout",
     "output_type": "stream",
     "text": [
      "<class 'list'> ['MATTER', 'MATTER', 'MATTER', 'MATTER', 'foo', 'foo', 'qux', 'qux'] MATTER\n",
      "<class 'list'> ['Q1', 'Q2', 'Q3', 'Q4', 'one', 'two', 'one', 'two'] Q1\n",
      "[['MATTER', 'MATTER', 'MATTER', 'MATTER', 'foo', 'foo', 'qux', 'qux'], ['Q1', 'Q2', 'Q3', 'Q4', 'one', 'two', 'one', 'two']]\n",
      "['MATTER', 'MATTER', 'MATTER', 'MATTER', 'foo', 'foo', 'qux', 'qux']\n",
      "['Q1', 'Q2', 'Q3', 'Q4', 'one', 'two', 'one', 'two']\n"
     ]
    }
   ],
   "source": [
    "# filename.txt contains the following:\n",
    "# MATTER, MATTER, MATTER, MATTER, foo, foo, qux, qux\n",
    "# Q1, Q2, Q3, Q4, one, two, one, two\n",
    "\n",
    "with open('filename.txt', newline='') as csvfile:\n",
    "    spamreader = csv.reader(csvfile, delimiter=',')\n",
    "    lst = []\n",
    "    for row in spamreader:\n",
    "        lst.append(row)\n",
    "        print(type(row), row, row[0])\n",
    "        # print(row.split(','))\n",
    "        # print(', '.join(row))\n",
    "print(lst)\n",
    "print(lst[0])\n",
    "print(lst[1])"
   ]
  },
  {
   "cell_type": "code",
   "execution_count": 2,
   "metadata": {},
   "outputs": [
    {
     "name": "stdout",
     "output_type": "stream",
     "text": [
      "C:\\Users\\hansoc10\\Desktop\\Programming\\Python\\datafiles\n"
     ]
    }
   ],
   "source": [
    "print(os.getcwd())"
   ]
  },
  {
   "cell_type": "code",
   "execution_count": 17,
   "metadata": {},
   "outputs": [
    {
     "name": "stdout",
     "output_type": "stream",
     "text": [
      "1 a\n",
      "2 b\n",
      "3 c\n",
      "4 a\n",
      "5 b\n",
      "6 c\n",
      "7 a\n",
      "8 b\n",
      "9 c\n",
      "['a', 'b', 'c', 'a', 'b', 'c', 'a', 'b', 'c', 'a']\n"
     ]
    }
   ],
   "source": [
    "from itertools import *\n",
    "\n",
    "i = 0\n",
    "my_list = []\n",
    "for item in cycle(['a', 'b', 'c']):\n",
    "    i += 1\n",
    "    my_list.append(item)\n",
    "    if i == 10:\n",
    "        break\n",
    "    print (i, item)\n",
    "print(my_list)\n",
    "\n"
   ]
  },
  {
   "cell_type": "code",
   "execution_count": null,
   "metadata": {},
   "outputs": [],
   "source": []
  },
  {
   "cell_type": "code",
   "execution_count": null,
   "metadata": {},
   "outputs": [],
   "source": []
  },
  {
   "cell_type": "code",
   "execution_count": null,
   "metadata": {},
   "outputs": [],
   "source": []
  }
 ],
 "metadata": {
  "kernelspec": {
   "display_name": "Python 3",
   "language": "python",
   "name": "python3"
  },
  "language_info": {
   "codemirror_mode": {
    "name": "ipython",
    "version": 3
   },
   "file_extension": ".py",
   "mimetype": "text/x-python",
   "name": "python",
   "nbconvert_exporter": "python",
   "pygments_lexer": "ipython3",
   "version": "3.7.3"
  }
 },
 "nbformat": 4,
 "nbformat_minor": 2
}
